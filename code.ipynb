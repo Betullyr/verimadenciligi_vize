{
 "cells": [
  {
   "cell_type": "code",
   "execution_count": 35,
   "id": "6d7da549",
   "metadata": {},
   "outputs": [],
   "source": [
    "import pandas as pd\n",
    "import numpy as np\n",
    "import matplotlib.pyplot as plt\n",
    "import seaborn as sns\n",
    "from sklearn.preprocessing import MinMaxScaler\n",
    "from sklearn.model_selection import train_test_split\n",
    "from sklearn.decomposition import PCA\n",
    "from sklearn.ensemble import RandomForestClassifier\n",
    "from sklearn.metrics import accuracy_score, classification_report\n",
    "import seaborn as sns\n",
    "from sklearn.metrics import confusion_matrix"
   ]
  },
  {
   "cell_type": "code",
   "execution_count": 36,
   "id": "7b8a007b",
   "metadata": {},
   "outputs": [],
   "source": [
    "## CSV dosyasını okuyalım\n",
    "df = pd.read_csv(\"datasetMalware33featues.csv\")\n"
   ]
  },
  {
   "cell_type": "code",
   "execution_count": 37,
   "id": "2e72ba89",
   "metadata": {},
   "outputs": [
    {
     "data": {
      "text/plain": [
       "FinFlagDist            0\n",
       "SynFlagDist            0\n",
       "RstFlagDist            0\n",
       "PshFlagDist            0\n",
       "AckFlagDist            0\n",
       "DNSoverIP              0\n",
       "TCPoverIP              0\n",
       "UDPoverIP              0\n",
       "MaxLen                 0\n",
       "MinLen                 0\n",
       "StdDevLen              0\n",
       "AvgLen                 0\n",
       "MaxIAT                 0\n",
       "MinIAT                 0\n",
       "AvgIAT                 0\n",
       "AvgWinFlow             0\n",
       "PktsIOratio            0\n",
       "1stPktLen              0\n",
       "MaxLenrx               0\n",
       "MinLenrx               0\n",
       "StdDevLenrx            0\n",
       "AvgLenrx               0\n",
       "MinIATrx               0\n",
       "AvgIATrx               0\n",
       "NumPorts               0\n",
       "FlowLEN                0\n",
       "FlowLENrx              0\n",
       "repeated_pkts_ratio    0\n",
       "NumCon                 0\n",
       "NumIPdst               0\n",
       "Start_flow             0\n",
       "DeltaTimeFlow          0\n",
       "HTTPpkts               0\n",
       "label                  0\n",
       "dtype: int64"
      ]
     },
     "execution_count": 37,
     "metadata": {},
     "output_type": "execute_result"
    }
   ],
   "source": [
    "# Eksik verileri (NaN değerlerini) sütun ortalamalarıyla dolduralım\n",
    "df.fillna(df.mean(), inplace=True)\n",
    "\n",
    "# Eksik veri kalmış mı kontrol edelim\n",
    "missing_values = df.isnull().sum()\n",
    "missing_values"
   ]
  },
  {
   "cell_type": "code",
   "execution_count": 38,
   "id": "106e87af",
   "metadata": {},
   "outputs": [],
   "source": [
    "# Hedef değişkeni (label) ve özellikleri (features) ayırma\n",
    "X = df_scaled.drop('label', axis=1)  # Özellikler\n",
    "y = df_scaled['label']               # Hedef değişken"
   ]
  },
  {
   "cell_type": "code",
   "execution_count": 39,
   "id": "04cdef4f",
   "metadata": {},
   "outputs": [],
   "source": [
    "# Veri setini eğitim ve test setlerine ayırma(örneğin, eğitim: %70, test: %30)\n",
    "X_train, X_test, y_train, y_test = train_test_split(X, y, test_size=0.3, random_state=42)"
   ]
  },
  {
   "cell_type": "code",
   "execution_count": 40,
   "id": "c9f8e7fb",
   "metadata": {},
   "outputs": [
    {
     "name": "stdout",
     "output_type": "stream",
     "text": [
      "(24044, 33) (10305, 33) (24044,) (10305,)\n"
     ]
    }
   ],
   "source": [
    "# Eğitim ve test setlerinin boyutlarını kontrol etme\n",
    "print(X_train.shape, X_test.shape, y_train.shape, y_test.shape)"
   ]
  },
  {
   "cell_type": "code",
   "execution_count": 41,
   "id": "513ff0e4",
   "metadata": {},
   "outputs": [],
   "source": [
    "#Normalizasyon işlemi\n",
    "scaler = MinMaxScaler()\n",
    "\n",
    "# 'label' sütunu hariç tüm sütunları ölçeklendirme\n",
    "df_scaled = df.copy()\n",
    "df_scaled[df_scaled.columns[:-1]] = scaler.fit_transform(df_scaled[df_scaled.columns[:-1]])"
   ]
  },
  {
   "cell_type": "code",
   "execution_count": 42,
   "id": "595f9f91",
   "metadata": {},
   "outputs": [
    {
     "name": "stdout",
     "output_type": "stream",
     "text": [
      "Accuracy: 1.0\n",
      "\n",
      "Classification Report:\n",
      "               precision    recall  f1-score   support\n",
      "\n",
      "         1.0       1.00      1.00      1.00     10305\n",
      "\n",
      "    accuracy                           1.00     10305\n",
      "   macro avg       1.00      1.00      1.00     10305\n",
      "weighted avg       1.00      1.00      1.00     10305\n",
      "\n"
     ]
    }
   ],
   "source": [
    "#RandomForestClassifier oluşturma ve eğitme\n",
    "clf = RandomForestClassifier(n_estimators=100, random_state=42)\n",
    "clf.fit(X_train, y_train)\n",
    "\n",
    "# Modelin test veri seti üzerindeki performansını değerlendirme\n",
    "y_pred = clf.predict(X_test)\n",
    "accuracy = accuracy_score(y_test, y_pred)\n",
    "print(\"Accuracy:\", accuracy)\n",
    "print(\"\\nClassification Report:\\n\", classification_report(y_test, y_pred))"
   ]
  },
  {
   "cell_type": "code",
   "execution_count": 46,
   "id": "ade8a843",
   "metadata": {},
   "outputs": [],
   "source": [
    "# Modelin tahminlerini kullanarak confusion matrix oluşturma\n",
    "conf_matrix = confusion_matrix(y_test, y_pred)"
   ]
  },
  {
   "cell_type": "code",
   "execution_count": 45,
   "id": "203398dc",
   "metadata": {},
   "outputs": [
    {
     "data": {
      "image/png": "[encoded data removed]",
      "text/plain": [
       "<Figure size 640x480 with 2 Axes>"
      ]
     },
     "metadata": {},
     "output_type": "display_data"
    }
   ],
   "source": [
    "# Confusion matrix'i görselleştirme\n",
    "sns.heatmap(conf_matrix, annot=True, fmt='d', cmap='Blues')\n",
    "plt.title('Confusion Matrix')\n",
    "plt.ylabel('Gerçek Değerler')\n",
    "plt.xlabel('Tahmin Edilen Değerler')\n",
    "plt.show()"
   ]
  },
  {
   "cell_type": "code",
   "execution_count": null,
   "id": "d48cd64d",
   "metadata": {},
   "outputs": [],
   "source": []
  }
 ],
 "metadata": {
  "kernelspec": {
   "display_name": "Python 3 (ipykernel)",
   "language": "python",
   "name": "python3"
  },
  "language_info": {
   "codemirror_mode": {
    "name": "ipython",
    "version": 3
   },
   "file_extension": ".py",
   "mimetype": "text/x-python",
   "name": "python",
   "nbconvert_exporter": "python",
   "pygments_lexer": "ipython3",
   "version": "3.10.9"
  }
 },
 "nbformat": 4,
 "nbformat_minor": 5
}
